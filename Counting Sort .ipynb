{
 "cells": [
  {
   "cell_type": "code",
   "execution_count": 73,
   "metadata": {},
   "outputs": [
    {
     "name": "stdout",
     "output_type": "stream",
     "text": [
      "1 2 2 2 2 2 3 4 5 6 2000 "
     ]
    }
   ],
   "source": [
    "from collections import Counter\n",
    "Arr=[3,6,4,2,1,5,2,2,2,2,2000]\n",
    "ResArr=[0 for i in range(max(Arr)+1)]\n",
    "\n",
    "values=list(Counter(Arr).values())\n",
    "keys=list(Counter(Arr).keys())\n",
    "j=0\n",
    "IndexCheck=[0]*max(Arr)\n",
    "for i in keys:\n",
    "    ResArr[i]=values[j]\n",
    "    j+=1\n",
    "\n",
    "# IndexCheck=[0]*max(Arr)\n",
    "for i in range(1,len(IndexCheck)+1):\n",
    "    ResArr[i]=ResArr[i]+ResArr[i-1]\n",
    "\n",
    "finalArr=[0]*len(Arr)\n",
    "for i in range(len(Arr)):\n",
    "    finalArr[ResArr[Arr[i]]-1]=Arr[i]\n",
    "    ResArr[Arr[i]]-=1\n",
    "\n",
    "for i in range(len(Arr)): \n",
    "    print (finalArr[i],end=' ') "
   ]
  },
  {
   "cell_type": "code",
   "execution_count": 58,
   "metadata": {},
   "outputs": [
    {
     "data": {
      "text/plain": [
       "([1, 1, 1, 6, 1, 1], [3, 6, 4, 2, 1, 5], [0, 1, 6, 1, 1, 1, 1])"
      ]
     },
     "execution_count": 58,
     "metadata": {},
     "output_type": "execute_result"
    }
   ],
   "source": [
    "for i in range(len(arr)): \n",
    "        output[count[ord(arr[i])]-1] = arr[i] \n",
    "        count[ord(arr[i])] -= 1"
   ]
  },
  {
   "cell_type": "code",
   "execution_count": 14,
   "metadata": {},
   "outputs": [],
   "source": [
    "a=[0]*12"
   ]
  },
  {
   "cell_type": "code",
   "execution_count": 15,
   "metadata": {},
   "outputs": [
    {
     "data": {
      "text/plain": [
       "[0, 0, 0, 0, 0, 0, 0, 0, 0, 0, 0, 0]"
      ]
     },
     "execution_count": 15,
     "metadata": {},
     "output_type": "execute_result"
    }
   ],
   "source": [
    "a"
   ]
  },
  {
   "cell_type": "code",
   "execution_count": null,
   "metadata": {},
   "outputs": [],
   "source": []
  }
 ],
 "metadata": {
  "kernelspec": {
   "display_name": "Python 3",
   "language": "python",
   "name": "python3"
  },
  "language_info": {
   "codemirror_mode": {
    "name": "ipython",
    "version": 3
   },
   "file_extension": ".py",
   "mimetype": "text/x-python",
   "name": "python",
   "nbconvert_exporter": "python",
   "pygments_lexer": "ipython3",
   "version": "3.7.3"
  }
 },
 "nbformat": 4,
 "nbformat_minor": 2
}
