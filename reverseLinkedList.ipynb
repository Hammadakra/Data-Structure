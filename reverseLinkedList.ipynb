{
 "cells": [
  {
   "cell_type": "code",
   "execution_count": 8,
   "metadata": {},
   "outputs": [],
   "source": [
    "class Node:\n",
    "    def __init__(self,data):\n",
    "        self.data=data\n",
    "        self.next=None\n",
    "class LinkedList:\n",
    "    def __init__(self):\n",
    "        self.head=None\n",
    "    def push(self,data):\n",
    "        new_Node=Node(data)\n",
    "        new_Node.next=self.head\n",
    "        self.head=new_Node\n",
    "    def reverse(self):\n",
    "        current=self.head\n",
    "        pre=None\n",
    "        while current is not None:\n",
    "            next=current.next\n",
    "            current.next=pre\n",
    "            pre=current\n",
    "            current=next\n",
    "        self.head=pre   \n",
    "    def printData(self):\n",
    "        temp=self.head\n",
    "        while temp:\n",
    "            print(temp.data)\n",
    "            temp=temp.next\n",
    "if __name__ == '__main__':\n",
    "    tests = int(input())\n",
    "\n",
    "    for tests_itr in range(tests):\n",
    "        llist_count = int(input())\n",
    "\n",
    "        llist = LinkedList()\n",
    "\n",
    "        for _ in range(llist_count):\n",
    "            llist_item = int(input())\n",
    "            llist.push(llist_item)\n",
    "    llist.reverse()\n",
    "    llist.printData()\n",
    "            "
   ]
  }
 ],
 "metadata": {
  "kernelspec": {
   "display_name": "Python 3",
   "language": "python",
   "name": "python3"
  },
  "language_info": {
   "codemirror_mode": {
    "name": "ipython",
    "version": 3
   },
   "file_extension": ".py",
   "mimetype": "text/x-python",
   "name": "python",
   "nbconvert_exporter": "python",
   "pygments_lexer": "ipython3",
   "version": "3.7.3"
  }
 },
 "nbformat": 4,
 "nbformat_minor": 2
}
