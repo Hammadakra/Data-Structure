{
 "cells": [
  {
   "cell_type": "code",
   "execution_count": 1,
   "metadata": {
    "collapsed": true
   },
   "outputs": [
    {
     "name": "stdout",
     "output_type": "stream",
     "text": [
      "1\n",
      "2\n",
      "2\n",
      "3\n",
      "3\n",
      "4\n",
      "4\n",
      "5\n",
      "5\n",
      "5\n",
      "5\n",
      "5\n",
      "6\n",
      "6\n",
      "6\n",
      "6\n",
      "10\n",
      "12\n",
      "26\n",
      "34\n",
      "34\n",
      "34\n",
      "35\n",
      "37\n",
      "43\n",
      "45\n",
      "45\n",
      "47\n",
      "53\n",
      "54\n",
      "62\n",
      "62\n",
      "62\n",
      "63\n",
      "63\n",
      "73\n",
      "75\n",
      "76\n",
      "345\n",
      "345\n",
      "345\n",
      "346\n",
      "373\n",
      "435\n",
      "435\n",
      "456\n",
      "457\n",
      "534\n",
      "534\n",
      "534\n",
      "534\n",
      "543\n",
      "547\n",
      "573\n",
      "634\n",
      "634\n",
      "646\n",
      "662\n",
      "734\n",
      "754\n",
      "4656\n",
      "433333333\n"
     ]
    }
   ],
   "source": [
    " def Insert(a):\n",
    "    for i in range(1,len(a)):\n",
    "        temp=a[i]\n",
    "        j=i-1\n",
    "        while (j>=0 and temp<a[j]):\n",
    "            a[j+1]=a[j]\n",
    "            j-=1\n",
    "        a[j+1]=temp \n",
    "a=[12,5,1,10,45,62,662,433333333,2,62,6,26,2,5,62,646,75,76,47,4656,547,456,346,457,3,534,534,754,6,345,37,35,734,534,6,373,5,435,43,543,5,435,345,34,534,5,345,34,634,73,573,4,54,63,634,45,34,63,6,3,53,4]\n",
    "Insert(a)\n",
    "for i in range(len(a)): \n",
    "    print (\"%d\" %a[i])"
   ]
  },
  {
   "cell_type": "code",
   "execution_count": null,
   "metadata": {},
   "outputs": [],
   "source": []
  }
 ],
 "metadata": {
  "kernelspec": {
   "display_name": "Python 3",
   "language": "python",
   "name": "python3"
  },
  "language_info": {
   "codemirror_mode": {
    "name": "ipython",
    "version": 3
   },
   "file_extension": ".py",
   "mimetype": "text/x-python",
   "name": "python",
   "nbconvert_exporter": "python",
   "pygments_lexer": "ipython3",
   "version": "3.7.3"
  }
 },
 "nbformat": 4,
 "nbformat_minor": 2
}
