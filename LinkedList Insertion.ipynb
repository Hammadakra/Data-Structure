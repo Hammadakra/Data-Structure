{
 "cells": [
  {
   "cell_type": "code",
   "execution_count": 22,
   "metadata": {},
   "outputs": [],
   "source": [
    "class Node():\n",
    "    def __init__(self,data):\n",
    "        self.data=data\n",
    "        self.next=None"
   ]
  },
  {
   "cell_type": "code",
   "execution_count": 41,
   "metadata": {},
   "outputs": [],
   "source": [
    "class LinkedList():\n",
    "    def __init__(self):\n",
    "        self.head=None\n",
    "    \n",
    "    def push(self,data):\n",
    "        newNode=Node(data)\n",
    "        newNode.next=self.head\n",
    "        self.head=newNode\n",
    "        \n",
    "    def append(self,data):\n",
    "        newNode=Node(data)\n",
    "        if self.head==None:\n",
    "            self.head=newNode\n",
    "            return\n",
    "        temp=self.head\n",
    "        while(temp.next):\n",
    "            temp=temp.next\n",
    "        temp.next=newNode \n",
    "        \n",
    "    def insertAtPre(self,prev,data):\n",
    "        if self.head==None:\n",
    "            print('This is not linked list')\n",
    "            return \n",
    "        newNode=Node(data)\n",
    "        newNode.next=prev.next\n",
    "        prev.next=newNode\n",
    "            \n",
    "    def printList(self):\n",
    "        temp=self.head\n",
    "        while (temp):\n",
    "            print(temp.data)\n",
    "            temp=temp.next"
   ]
  },
  {
   "cell_type": "code",
   "execution_count": 47,
   "metadata": {},
   "outputs": [
    {
     "name": "stdout",
     "output_type": "stream",
     "text": [
      "node\n",
      "Muhammad\n",
      "42\n",
      "33\n",
      "Hammad\n",
      "24\n",
      "4\n",
      "224\n"
     ]
    }
   ],
   "source": [
    "if __name__=='__main__': \n",
    "    llist=LinkedList()\n",
    "    \n",
    "    llist.push(33)\n",
    "    llist.push(42)\n",
    "    \n",
    "    llist.append(24)\n",
    "    llist.append(4)\n",
    "    llist.append(224)\n",
    "    llist.push('node')\n",
    "    \n",
    "    llist.insertAtPre(llist.head,'Muhammad')\n",
    "    llist.insertAtPre(llist.head.next.next.next,'Hammad')\n",
    "    \n",
    "    llist.printList()"
   ]
  },
  {
   "cell_type": "code",
   "execution_count": null,
   "metadata": {},
   "outputs": [],
   "source": []
  }
 ],
 "metadata": {
  "kernelspec": {
   "display_name": "Python 3",
   "language": "python",
   "name": "python3"
  },
  "language_info": {
   "codemirror_mode": {
    "name": "ipython",
    "version": 3
   },
   "file_extension": ".py",
   "mimetype": "text/x-python",
   "name": "python",
   "nbconvert_exporter": "python",
   "pygments_lexer": "ipython3",
   "version": "3.7.3"
  }
 },
 "nbformat": 4,
 "nbformat_minor": 2
}
