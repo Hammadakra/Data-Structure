{
 "cells": [
  {
   "cell_type": "code",
   "execution_count": 1,
   "metadata": {},
   "outputs": [],
   "source": [
    "class Node:\n",
    "    def __init__(self,data):\n",
    "        self.data=data\n",
    "        self.next=None"
   ]
  },
  {
   "cell_type": "code",
   "execution_count": 40,
   "metadata": {},
   "outputs": [],
   "source": [
    "def removeFirst(head):\n",
    "    if head==None:\n",
    "        return None\n",
    "    temp=head\n",
    "    head=head.next\n",
    "    temp=None\n",
    "    return head\n",
    "\n",
    "def push(head, data): \n",
    "    if not head: \n",
    "        return Node(data) \n",
    "    temp = Node(data) \n",
    "    temp.next = head \n",
    "    head = temp \n",
    "    return head \n",
    "\n",
    "\n",
    "def removeLast(head):\n",
    "    if head==None:\n",
    "        return None\n",
    "    if head.next==None:\n",
    "        return None\n",
    "    temp=head\n",
    "    while temp.next.next:\n",
    "        temp=temp.next\n",
    "    temp.next=None    \n",
    "        "
   ]
  },
  {
   "cell_type": "code",
   "execution_count": 44,
   "metadata": {},
   "outputs": [
    {
     "name": "stdout",
     "output_type": "stream",
     "text": [
      "3 2 20 23 "
     ]
    }
   ],
   "source": [
    "if __name__=='__main__':\n",
    "    head=None\n",
    "    head=push(head,23)\n",
    "    head=push(head,20)\n",
    "    head=push(head,2)\n",
    "    head=push(head,3)\n",
    "    head=push(head,203)\n",
    "    \n",
    "    head=removeFirst(head)\n",
    "#     head=removeLast(head)\n",
    "    while(head): \n",
    "        print(\"{} \".format(head.data), end =\"\") \n",
    "        head = head.next\n",
    "    "
   ]
  },
  {
   "cell_type": "code",
   "execution_count": null,
   "metadata": {},
   "outputs": [],
   "source": []
  },
  {
   "cell_type": "code",
   "execution_count": null,
   "metadata": {},
   "outputs": [],
   "source": []
  },
  {
   "cell_type": "code",
   "execution_count": null,
   "metadata": {},
   "outputs": [],
   "source": []
  },
  {
   "cell_type": "code",
   "execution_count": null,
   "metadata": {},
   "outputs": [],
   "source": []
  },
  {
   "cell_type": "code",
   "execution_count": null,
   "metadata": {},
   "outputs": [],
   "source": []
  },
  {
   "cell_type": "code",
   "execution_count": null,
   "metadata": {},
   "outputs": [],
   "source": []
  },
  {
   "cell_type": "code",
   "execution_count": null,
   "metadata": {},
   "outputs": [],
   "source": []
  },
  {
   "cell_type": "code",
   "execution_count": null,
   "metadata": {},
   "outputs": [],
   "source": []
  },
  {
   "cell_type": "code",
   "execution_count": null,
   "metadata": {},
   "outputs": [],
   "source": []
  },
  {
   "cell_type": "code",
   "execution_count": null,
   "metadata": {},
   "outputs": [],
   "source": []
  },
  {
   "cell_type": "code",
   "execution_count": null,
   "metadata": {},
   "outputs": [],
   "source": []
  },
  {
   "cell_type": "code",
   "execution_count": null,
   "metadata": {},
   "outputs": [],
   "source": []
  },
  {
   "cell_type": "code",
   "execution_count": null,
   "metadata": {},
   "outputs": [],
   "source": []
  },
  {
   "cell_type": "code",
   "execution_count": null,
   "metadata": {},
   "outputs": [],
   "source": []
  },
  {
   "cell_type": "code",
   "execution_count": 37,
   "metadata": {},
   "outputs": [
    {
     "name": "stdout",
     "output_type": "stream",
     "text": [
      "11 29 12 "
     ]
    }
   ],
   "source": [
    "import sys \n",
    "  \n",
    "# Link list node  \n",
    "class Node: \n",
    "    def __init__(self, data): \n",
    "        self.data = data \n",
    "        self.next = None\n",
    "  \n",
    "# Function to remove the first node   \n",
    "# of the linked list  \n",
    "def removeFirstNode(head): \n",
    "    if not head: \n",
    "        return None\n",
    "    temp = head \n",
    "  \n",
    "    # Move the head pointer to the next node \n",
    "    head = head.next\n",
    "    temp = None\n",
    "    return head \n",
    "  \n",
    "# Function to push node at head  \n",
    "def push(head, data): \n",
    "    if not head: \n",
    "        return Node(data) \n",
    "    temp = Node(data) \n",
    "    temp.next = head \n",
    "    head = temp \n",
    "    return head \n",
    "  \n",
    "# Driver code \n",
    "if __name__=='__main__': \n",
    "  \n",
    "    # Start with the empty list  \n",
    "    head = None\n",
    "  \n",
    "    # Use push() function to construct    \n",
    "    # the below list 8 -> 23 -> 11 -> 29 -> 12  \n",
    "    head = push(head, 12) \n",
    "    head = push(head, 29) \n",
    "    head = push(head, 11) \n",
    "    head = push(head, 23) \n",
    "    head = push(head, 8) \n",
    "  \n",
    "    head = (head) \n",
    "    head = removeFirstNode(head) \n",
    "    \n",
    "    \n",
    "      \n",
    "    while(head): \n",
    "        print(\"{} \".format(head.data), end =\"\") \n",
    "        head = head.next"
   ]
  },
  {
   "cell_type": "code",
   "execution_count": null,
   "metadata": {},
   "outputs": [],
   "source": []
  }
 ],
 "metadata": {
  "kernelspec": {
   "display_name": "Python 3",
   "language": "python",
   "name": "python3"
  },
  "language_info": {
   "codemirror_mode": {
    "name": "ipython",
    "version": 3
   },
   "file_extension": ".py",
   "mimetype": "text/x-python",
   "name": "python",
   "nbconvert_exporter": "python",
   "pygments_lexer": "ipython3",
   "version": "3.7.3"
  }
 },
 "nbformat": 4,
 "nbformat_minor": 2
}
