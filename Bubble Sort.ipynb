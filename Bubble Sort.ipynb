{
 "cells": [
  {
   "cell_type": "code",
   "execution_count": 1,
   "metadata": {},
   "outputs": [
    {
     "name": "stdout",
     "output_type": "stream",
     "text": [
      "5\n",
      "4 0 21 3 31\n",
      "Sorted array is:\n",
      "0\n",
      "3\n",
      "4\n",
      "21\n",
      "31\n"
     ]
    }
   ],
   "source": [
    "s = int(input().strip())\n",
    "ar = [int(temp) for temp in input().strip().split(' ')]\n",
    "temp=0\n",
    "for i in range(len(ar)):\n",
    "    for j in range(len(ar)-i-1):\n",
    "        if ar[j]>ar[j+1]:\n",
    "            temp=ar[j+1]\n",
    "            ar[j+1]=ar[j]\n",
    "            ar[j]=temp\n",
    "print (\"Sorted array is:\") \n",
    "for i in range(len(ar)): \n",
    "    print (\"%d\" %ar[i])          "
   ]
  },
  {
   "cell_type": "code",
   "execution_count": null,
   "metadata": {},
   "outputs": [],
   "source": []
  }
 ],
 "metadata": {
  "kernelspec": {
   "display_name": "Python 3",
   "language": "python",
   "name": "python3"
  },
  "language_info": {
   "codemirror_mode": {
    "name": "ipython",
    "version": 3
   },
   "file_extension": ".py",
   "mimetype": "text/x-python",
   "name": "python",
   "nbconvert_exporter": "python",
   "pygments_lexer": "ipython3",
   "version": "3.7.3"
  }
 },
 "nbformat": 4,
 "nbformat_minor": 2
}
